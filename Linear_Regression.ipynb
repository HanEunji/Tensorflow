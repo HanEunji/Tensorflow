{
 "cells": [
  {
   "cell_type": "markdown",
   "metadata": {},
   "source": [
    ">선형회귀"
   ]
  },
  {
   "cell_type": "code",
   "execution_count": 1,
   "metadata": {},
   "outputs": [],
   "source": [
    "import tensorflow as tf\n",
    "import numpy as np\n",
    "rng = np.random"
   ]
  },
  {
   "cell_type": "code",
   "execution_count": 2,
   "metadata": {},
   "outputs": [],
   "source": [
    "learning_rate = 0.01\n",
    "training_steps = 1000\n",
    "display_step = 50"
   ]
  },
  {
   "cell_type": "code",
   "execution_count": 3,
   "metadata": {},
   "outputs": [],
   "source": [
    "X = np.array([3.3,4.4,5.5,6.71,6.93,4.168,9.779,6.182,7.59,2.167,\n",
    "              7.042,10.791,5.313,7.997,5.654,9.27,3.1])\n",
    "Y = np.array([1.7,2.76,2.09,3.19,1.694,1.573,3.366,2.596,2.53,1.221,\n",
    "              2.827,3.465,1.65,2.904,2.42,2.94,1.3])"
   ]
  },
  {
   "cell_type": "code",
   "execution_count": 4,
   "metadata": {},
   "outputs": [],
   "source": [
    "W = tf.Variable(rng.randn(), name='weight')\n",
    "b = tf.Variable(rng.randn(), name='bias')\n",
    "\n",
    "def linear_regression(x):\n",
    "    return W * x + b\n",
    "\n",
    "def mean_square(y_pred, y_true):\n",
    "    return tf.reduce_mean(tf.square(y_pred - y_true))\n",
    "\n",
    "optimizer = tf.optimizers.SGD(learning_rate)"
   ]
  },
  {
   "cell_type": "code",
   "execution_count": 5,
   "metadata": {},
   "outputs": [],
   "source": [
    "def run_optimization():\n",
    "    with tf.GradientTape() as g:\n",
    "        pred = linear_regression(X)\n",
    "        loss = mean_square(pred, Y)\n",
    "\n",
    "    gradients = g.gradient(loss, [W, b])\n",
    "\n",
    "    optimizer.apply_gradients(zip(gradients, [W, b]))"
   ]
  },
  {
   "cell_type": "code",
   "execution_count": 6,
   "metadata": {},
   "outputs": [
    {
     "name": "stdout",
     "output_type": "stream",
     "text": [
      "step: 50, loss: 0.2607315182685852, W: 0.38269200921058655, b: -0.13033437728881836\n",
      "step: 100, loss: 0.2376706749200821, W: 0.3676943778991699, b: -0.024007882922887802\n",
      "step: 150, loss: 0.2195858359336853, W: 0.3544130027294159, b: 0.07015103101730347\n",
      "step: 200, loss: 0.20540323853492737, W: 0.34265148639678955, b: 0.15353474020957947\n",
      "step: 250, loss: 0.1942809820175171, W: 0.3322359323501587, b: 0.22737635672092438\n",
      "step: 300, loss: 0.18555857241153717, W: 0.3230122923851013, b: 0.29276788234710693\n",
      "step: 350, loss: 0.17871828377246857, W: 0.31484416127204895, b: 0.3506762683391571\n",
      "step: 400, loss: 0.17335394024848938, W: 0.30761075019836426, b: 0.40195783972740173\n",
      "step: 450, loss: 0.16914711892604828, W: 0.3012050986289978, b: 0.44737106561660767\n",
      "step: 500, loss: 0.1658480018377304, W: 0.2955324947834015, b: 0.4875873923301697\n",
      "step: 550, loss: 0.1632608026266098, W: 0.29050904512405396, b: 0.5232013463973999\n",
      "step: 600, loss: 0.16123180091381073, W: 0.2860604226589203, b: 0.5547399520874023\n",
      "step: 650, loss: 0.15964065492153168, W: 0.282120943069458, b: 0.5826692581176758\n",
      "step: 700, loss: 0.1583928018808365, W: 0.2786322236061096, b: 0.6074026226997375\n",
      "step: 750, loss: 0.1574142575263977, W: 0.2755427360534668, b: 0.6293056011199951\n",
      "step: 800, loss: 0.15664684772491455, W: 0.272806853055954, b: 0.6487018465995789\n",
      "step: 850, loss: 0.15604498982429504, W: 0.2703840136528015, b: 0.6658786535263062\n",
      "step: 900, loss: 0.1555730104446411, W: 0.26823845505714417, b: 0.6810897588729858\n",
      "step: 950, loss: 0.15520288050174713, W: 0.26633840799331665, b: 0.6945603489875793\n",
      "step: 1000, loss: 0.15491260588169098, W: 0.2646557688713074, b: 0.7064893841743469\n"
     ]
    }
   ],
   "source": [
    "for step in range(1, training_steps + 1):\n",
    "    run_optimization()\n",
    "\n",
    "    if step % display_step == 0:\n",
    "        pred = linear_regression(X)\n",
    "        loss = mean_square(pred, Y)\n",
    "        print(f'step: {step}, loss: {loss}, W: {W.numpy()}, b: {b.numpy()}')"
   ]
  },
  {
   "cell_type": "code",
   "execution_count": 7,
   "metadata": {},
   "outputs": [],
   "source": [
    "import matplotlib.pyplot as plt"
   ]
  },
  {
   "cell_type": "code",
   "execution_count": 8,
   "metadata": {},
   "outputs": [
    {
     "data": {
      "image/png": "[encoded data removed]",
      "text/plain": [
       "<Figure size 432x288 with 1 Axes>"
      ]
     },
     "metadata": {
      "needs_background": "light"
     },
     "output_type": "display_data"
    }
   ],
   "source": [
    "plt.plot(X, Y, 'ro', label='Original data')\n",
    "plt.plot(X, np.array(W * X + b), label='Fitted line')\n",
    "plt.legend()\n",
    "plt.show()"
   ]
  },
  {
   "cell_type": "code",
   "execution_count": null,
   "metadata": {},
   "outputs": [],
   "source": []
  }
 ],
 "metadata": {
  "interpreter": {
   "hash": "bb0cbac54d6cdbae60be2e6d83bf46fb7f752717ca2d60c579508701c83844df"
  },
  "kernelspec": {
   "display_name": "Python 3.10.0 64-bit",
   "language": "python",
   "name": "python3"
  },
  "language_info": {
   "codemirror_mode": {
    "name": "ipython",
    "version": 3
   },
   "file_extension": ".py",
   "mimetype": "text/x-python",
   "name": "python",
   "nbconvert_exporter": "python",
   "pygments_lexer": "ipython3",
   "version": "3.8.8"
  },
  "orig_nbformat": 4
 },
 "nbformat": 4,
 "nbformat_minor": 2
}
