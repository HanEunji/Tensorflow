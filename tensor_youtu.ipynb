{
 "cells": [
  {
   "cell_type": "markdown",
   "metadata": {},
   "source": [
    "[TensorFlow](https://www.youtube.com/watch?v=B961QM47g64)"
   ]
  },
  {
   "cell_type": "code",
   "execution_count": 4,
   "metadata": {},
   "outputs": [],
   "source": [
    "import numpy as np\n",
    "import tensorflow as tf"
   ]
  },
  {
   "cell_type": "code",
   "execution_count": 3,
   "metadata": {},
   "outputs": [],
   "source": [
    "def sigmoid(x):\n",
    "    return (1 / (1 + np.exp(-x)))\n",
    "\n",
    "def Neuron(x, W, bias=0):\n",
    "    z = x * W + bias\n",
    "    return sigmoid(z)"
   ]
  },
  {
   "cell_type": "code",
   "execution_count": 7,
   "metadata": {},
   "outputs": [
    {
     "name": "stdout",
     "output_type": "stream",
     "text": [
      "x.shape: (2, 1)\n",
      "W.shape: (2, 1)\n",
      "tf.Tensor(\n",
      "[[ 0.5340308 ]\n",
      " [-0.61117804]], shape=(2, 1), dtype=float32)\n",
      "tf.Tensor(\n",
      "[[-1.0456431]\n",
      " [ 1.2316655]], shape=(2, 1), dtype=float32)\n",
      "[[0.36391643]\n",
      " [0.3202187 ]]\n"
     ]
    }
   ],
   "source": [
    "x = tf.random.normal((2, 1), 0, 1)\n",
    "W = tf.random.normal((2, 1), 0, 1)\n",
    "\n",
    "print('x.shape:', x.shape)\n",
    "print('W.shape:', W.shape)\n",
    "\n",
    "print(x)\n",
    "print(W)\n",
    "\n",
    "print(Neuron(x, W))"
   ]
  },
  {
   "cell_type": "code",
   "execution_count": 8,
   "metadata": {},
   "outputs": [
    {
     "name": "stdout",
     "output_type": "stream",
     "text": [
      "[0.37085637]\n",
      "y: 0\n"
     ]
    }
   ],
   "source": [
    "x = 1\n",
    "y = 0\n",
    "W = tf.random.normal([1], 0, 1)\n",
    "print(Neuron(x, W))\n",
    "print('y:', y)"
   ]
  },
  {
   "cell_type": "code",
   "execution_count": 9,
   "metadata": {},
   "outputs": [
    {
     "name": "stdout",
     "output_type": "stream",
     "text": [
      "100\t[-0.09172301]\t[0.09172301]\n",
      "200\t[-0.04933936]\t[0.04933936]\n",
      "300\t[-0.03346449]\t[0.03346449]\n",
      "400\t[-0.02524849]\t[0.02524849]\n",
      "500\t[-0.02024639]\t[0.02024639]\n",
      "600\t[-0.01688743]\t[0.01688743]\n",
      "700\t[-0.01447869]\t[0.01447869]\n",
      "800\t[-0.01266812]\t[0.01266812]\n",
      "900\t[-0.01125812]\t[0.01125812]\n",
      "1000\t[-0.01012931]\t[0.01012931]\n"
     ]
    }
   ],
   "source": [
    "for i in range(1000):\n",
    "    output = Neuron(x, W)\n",
    "    error = y - output\n",
    "    W = W + x * 0.1 * error\n",
    "\n",
    "    if i % 100 == 99:\n",
    "        print(f\"{i+1}\\t{error}\\t{output}\")"
   ]
  },
  {
   "cell_type": "code",
   "execution_count": 12,
   "metadata": {},
   "outputs": [],
   "source": [
    "def Neuron2(x, W, bias=0):\n",
    "    z = tf.matmul(x, W, transpose_b=True) + bias\n",
    "    return sigmoid(z)"
   ]
  },
  {
   "cell_type": "code",
   "execution_count": 13,
   "metadata": {},
   "outputs": [
    {
     "name": "stdout",
     "output_type": "stream",
     "text": [
      "[[0.30701903]]\n",
      "y: tf.Tensor([1.], shape=(1,), dtype=float32)\n"
     ]
    }
   ],
   "source": [
    "x = tf.random.normal((1, 3), 0, 1)\n",
    "y = tf.ones(1)\n",
    "W = tf.random.normal((1, 3), 0, 1)\n",
    "\n",
    "print(Neuron2(x, W))\n",
    "print(\"y:\", y)"
   ]
  },
  {
   "cell_type": "code",
   "execution_count": 14,
   "metadata": {},
   "outputs": [
    {
     "name": "stdout",
     "output_type": "stream",
     "text": [
      "100\t[[0.01643872]]\t[[0.9835613]]\n",
      "200\t[[0.00806099]]\t[[0.991939]]\n",
      "300\t[[0.00533366]]\t[[0.99466634]]\n",
      "400\t[[0.00398403]]\t[[0.99601597]]\n",
      "500\t[[0.00317895]]\t[[0.99682105]]\n",
      "600\t[[0.00264442]]\t[[0.9973556]]\n",
      "700\t[[0.00226367]]\t[[0.99773633]]\n",
      "800\t[[0.00197864]]\t[[0.99802136]]\n",
      "900\t[[0.00175738]]\t[[0.9982426]]\n",
      "1000\t[[0.0015806]]\t[[0.9984194]]\n"
     ]
    }
   ],
   "source": [
    "for i in range(1000):\n",
    "    output = Neuron2(x, W)\n",
    "    error = y - output\n",
    "    W = W + x * 0.1 * error\n",
    "\n",
    "    if i % 100 == 99:\n",
    "        print(f'{i+1}\\t{error}\\t{output}')"
   ]
  },
  {
   "cell_type": "code",
   "execution_count": 15,
   "metadata": {},
   "outputs": [
    {
     "name": "stdout",
     "output_type": "stream",
     "text": [
      "x\t: [[ 0.11911952  0.591529   -0.4192188 ]]\n",
      "weights\t: [[-0.9560744   0.04003976  0.55955625]]\n",
      "bias\t: [[0.]]\n"
     ]
    }
   ],
   "source": [
    "x = tf.random.normal((1, 3), 0, 1)\n",
    "weights = tf.random.normal((1, 3), 0, 1)\n",
    "bias = tf.zeros((1, 1))\n",
    "\n",
    "y = tf.ones((1,))\n",
    "\n",
    "print(f'x\\t: {x}\\nweights\\t: {weights}\\nbias\\t: {bias}')"
   ]
  },
  {
   "cell_type": "code",
   "execution_count": 16,
   "metadata": {},
   "outputs": [
    {
     "name": "stdout",
     "output_type": "stream",
     "text": [
      "100\t[[0.07030433]]\t[[0.92969567]]\n",
      "200\t[[0.03456688]]\t[[0.9654331]]\n",
      "300\t[[0.02276337]]\t[[0.9772366]]\n",
      "400\t[[0.01693487]]\t[[0.9830651]]\n",
      "500\t[[0.01347101]]\t[[0.986529]]\n",
      "600\t[[0.01117849]]\t[[0.9888215]]\n",
      "700\t[[0.00955027]]\t[[0.9904497]]\n",
      "800\t[[0.0083347]]\t[[0.9916653]]\n",
      "900\t[[0.00739276]]\t[[0.99260724]]\n",
      "1000\t[[0.00664157]]\t[[0.99335843]]\n"
     ]
    }
   ],
   "source": [
    "for i in range(1000):\n",
    "    output = Neuron2(x, weights, bias=bias)\n",
    "    error = y - output\n",
    "    weights = weights + x * 0.1 * error\n",
    "    bias = bias + 1 * 0.1 * error\n",
    "\n",
    "    if i % 100 == 99:\n",
    "        print(f'{i+1}\\t{error}\\t{output}')"
   ]
  },
  {
   "cell_type": "code",
   "execution_count": null,
   "metadata": {},
   "outputs": [],
   "source": []
  }
 ],
 "metadata": {
  "interpreter": {
   "hash": "6a7fc058304f7c08047631c620bce2cb0bb77e906f71fda4e433d35efbc59b07"
  },
  "kernelspec": {
   "display_name": "Python 3.8.8 64-bit ('base': conda)",
   "language": "python",
   "name": "python3"
  },
  "language_info": {
   "codemirror_mode": {
    "name": "ipython",
    "version": 3
   },
   "file_extension": ".py",
   "mimetype": "text/x-python",
   "name": "python",
   "nbconvert_exporter": "python",
   "pygments_lexer": "ipython3",
   "version": "3.8.8"
  },
  "orig_nbformat": 4
 },
 "nbformat": 4,
 "nbformat_minor": 2
}
