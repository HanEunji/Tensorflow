{
 "cells": [
  {
   "cell_type": "code",
   "execution_count": 2,
   "metadata": {},
   "outputs": [],
   "source": [
    "import tensorflow as tf\n",
    "import numpy as np\n",
    "import copy"
   ]
  },
  {
   "cell_type": "code",
   "execution_count": null,
   "metadata": {},
   "outputs": [],
   "source": [
    "num_classes = 2\n",
    "num_features = 13\n",
    "\n",
    "max_steps = 2000\n",
    "batch_size = 256\n",
    "learning_rate = 1.0\n",
    "l1_regul = 0.0\n",
    "l2_regul = 0.1\n",
    "\n",
    "num_batches_per_layer = 1000\n",
    "num_trees = 10\n",
    "max_depth = 4"
   ]
  },
  {
   "cell_type": "code",
   "execution_count": 5,
   "metadata": {},
   "outputs": [
    {
     "name": "stdout",
     "output_type": "stream",
     "text": [
      "Downloading data from https://storage.googleapis.com/tensorflow/tf-keras-datasets/boston_housing.npz\n",
      "57344/57026 [==============================] - 0s 0us/step\n",
      "65536/57026 [==================================] - 0s 0us/step\n"
     ]
    }
   ],
   "source": [
    "from tensorflow.keras.datasets import boston_housing\n",
    "(x_train, y_train), (x_test, y_test) = boston_housing.load_data()\n",
    "\n",
    "def to_binary_class(y):\n",
    "    for i, label in enumerate(y):\n",
    "        if label >= 23.0:\n",
    "            y[i] = 1\n",
    "        else:\n",
    "            y[i] = 0\n",
    "    return y\n",
    "\n",
    "y_train_binary = to_binary_class(copy.deepcopy(y_train))\n",
    "y_test_binary = to_binary_class(copy.deepcopy(y_test))"
   ]
  },
  {
   "cell_type": "markdown",
   "metadata": {},
   "source": [
    "### GBDT Classifier"
   ]
  },
  {
   "cell_type": "code",
   "execution_count": 6,
   "metadata": {},
   "outputs": [],
   "source": [
    "train_input_fn = tf.compat.v1.estimator.inputs.numpy_input_fn(\n",
    "    x={'x': x_train}, y=y_train_binary,\n",
    "    batch_size=batch_size, num_epochs=None, shuffle=True)\n",
    "test_input_fn = tf.compat.v1.estimator.inputs.numpy_input_fn(\n",
    "    x={'x': x_test}, y=y_test_binary,\n",
    "    batch_size=batch_size, num_epochs=1, shuffle=False)\n",
    "test_train_input_fn = tf.compat.v1.estimator.inputs.numpy_input_fn(\n",
    "    x={'x': x_train}, y=y_train_binary,\n",
    "    batch_size=batch_size, num_epochs=1, shuffle=False)\n",
    "feature_columns = [tf.feature_column.numeric_column(key='x', shape=(num_features,))]"
   ]
  },
  {
   "cell_type": "code",
   "execution_count": 7,
   "metadata": {},
   "outputs": [
    {
     "name": "stdout",
     "output_type": "stream",
     "text": [
      "INFO:tensorflow:Using default config.\n",
      "WARNING:tensorflow:Using temporary folder as model directory: C:\\Users\\ICT01_10\\AppData\\Local\\Temp\\tmp5b_uuoy8\n",
      "INFO:tensorflow:Using config: {'_model_dir': 'C:\\\\Users\\\\ICT01_10\\\\AppData\\\\Local\\\\Temp\\\\tmp5b_uuoy8', '_tf_random_seed': None, '_save_summary_steps': 100, '_save_checkpoints_steps': None, '_save_checkpoints_secs': 600, '_session_config': allow_soft_placement: true\n",
      "graph_options {\n",
      "  rewrite_options {\n",
      "    meta_optimizer_iterations: ONE\n",
      "  }\n",
      "}\n",
      ", '_keep_checkpoint_max': 5, '_keep_checkpoint_every_n_hours': 10000, '_log_step_count_steps': 100, '_train_distribute': None, '_device_fn': None, '_protocol': None, '_eval_distribute': None, '_experimental_distribute': None, '_experimental_max_worker_delay_secs': None, '_session_creation_timeout_secs': 7200, '_checkpoint_save_graph_def': True, '_service': None, '_cluster_spec': ClusterSpec({}), '_task_type': 'worker', '_task_id': 0, '_global_id_in_cluster': 0, '_master': '', '_evaluation_master': '', '_is_chief': True, '_num_ps_replicas': 0, '_num_worker_replicas': 1}\n"
     ]
    }
   ],
   "source": [
    "gbdt_classifier = tf.estimator.BoostedTreesClassifier(\n",
    "    n_batches_per_layer=num_batches_per_layer,\n",
    "    feature_columns=feature_columns,\n",
    "    n_classes=num_classes,\n",
    "    learning_rate=learning_rate,\n",
    "    n_trees=num_trees,\n",
    "    max_depth=max_depth,\n",
    "    l1_regularization=l1_regul,\n",
    "    l2_regularization=l2_regul\n",
    ")"
   ]
  },
  {
   "cell_type": "code",
   "execution_count": 8,
   "metadata": {},
   "outputs": [
    {
     "name": "stdout",
     "output_type": "stream",
     "text": [
      "WARNING:tensorflow:From C:\\Users\\ICT01_10\\anaconda3\\lib\\site-packages\\tensorflow\\python\\training\\training_util.py:400: Variable.initialized_value (from tensorflow.python.ops.variables) is deprecated and will be removed in a future version.\n",
      "Instructions for updating:\n",
      "Use Variable.read_value. Variables in 2.X are initialized automatically both in eager and graph (inside tf.defun) contexts.\n",
      "WARNING:tensorflow:From C:\\Users\\ICT01_10\\anaconda3\\lib\\site-packages\\tensorflow_estimator\\python\\estimator\\inputs\\queues\\feeding_queue_runner.py:60: QueueRunner.__init__ (from tensorflow.python.training.queue_runner_impl) is deprecated and will be removed in a future version.\n",
      "Instructions for updating:\n",
      "To construct input pipelines, use the `tf.data` module.\n",
      "WARNING:tensorflow:From C:\\Users\\ICT01_10\\anaconda3\\lib\\site-packages\\tensorflow_estimator\\python\\estimator\\inputs\\queues\\feeding_functions.py:491: add_queue_runner (from tensorflow.python.training.queue_runner_impl) is deprecated and will be removed in a future version.\n",
      "Instructions for updating:\n",
      "To construct input pipelines, use the `tf.data` module.\n",
      "INFO:tensorflow:Calling model_fn.\n",
      "INFO:tensorflow:Done calling model_fn.\n",
      "INFO:tensorflow:Create CheckpointSaverHook.\n",
      "WARNING:tensorflow:Issue encountered when serializing resources.\n",
      "Type is unsupported, or the types of the items don't match field type in CollectionDef. Note this is a warning and probably safe to ignore.\n",
      "'_Resource' object has no attribute 'name'\n",
      "INFO:tensorflow:Graph was finalized.\n",
      "INFO:tensorflow:Running local_init_op.\n",
      "INFO:tensorflow:Done running local_init_op.\n",
      "WARNING:tensorflow:From C:\\Users\\ICT01_10\\anaconda3\\lib\\site-packages\\tensorflow\\python\\training\\monitored_session.py:918: start_queue_runners (from tensorflow.python.training.queue_runner_impl) is deprecated and will be removed in a future version.\n",
      "Instructions for updating:\n",
      "To construct input pipelines, use the `tf.data` module.\n",
      "WARNING:tensorflow:Issue encountered when serializing resources.\n",
      "Type is unsupported, or the types of the items don't match field type in CollectionDef. Note this is a warning and probably safe to ignore.\n",
      "'_Resource' object has no attribute 'name'\n",
      "INFO:tensorflow:Calling checkpoint listeners before saving checkpoint 0...\n",
      "INFO:tensorflow:Saving checkpoints for 0 into C:\\Users\\ICT01_10\\AppData\\Local\\Temp\\tmp5b_uuoy8\\model.ckpt.\n",
      "WARNING:tensorflow:Issue encountered when serializing resources.\n",
      "Type is unsupported, or the types of the items don't match field type in CollectionDef. Note this is a warning and probably safe to ignore.\n",
      "'_Resource' object has no attribute 'name'\n",
      "INFO:tensorflow:Calling checkpoint listeners after saving checkpoint 0...\n",
      "INFO:tensorflow:loss = 0.6931475, step = 0\n",
      "WARNING:tensorflow:It seems that global step (tf.train.get_global_step) has not been increased. Current value (could be stable): 0 vs previous value: 0. You could increase the global step by passing tf.train.get_global_step() to Optimizer.apply_gradients or Optimizer.minimize.\n",
      "WARNING:tensorflow:It seems that global step (tf.train.get_global_step) has not been increased. Current value (could be stable): 0 vs previous value: 0. You could increase the global step by passing tf.train.get_global_step() to Optimizer.apply_gradients or Optimizer.minimize.\n",
      "WARNING:tensorflow:It seems that global step (tf.train.get_global_step) has not been increased. Current value (could be stable): 0 vs previous value: 0. You could increase the global step by passing tf.train.get_global_step() to Optimizer.apply_gradients or Optimizer.minimize.\n",
      "WARNING:tensorflow:It seems that global step (tf.train.get_global_step) has not been increased. Current value (could be stable): 0 vs previous value: 0. You could increase the global step by passing tf.train.get_global_step() to Optimizer.apply_gradients or Optimizer.minimize.\n",
      "WARNING:tensorflow:It seems that global step (tf.train.get_global_step) has not been increased. Current value (could be stable): 0 vs previous value: 0. You could increase the global step by passing tf.train.get_global_step() to Optimizer.apply_gradients or Optimizer.minimize.\n",
      "INFO:tensorflow:loss = 0.6931475, step = 0 (0.252 sec)\n",
      "INFO:tensorflow:loss = 0.6931475, step = 0 (0.109 sec)\n",
      "INFO:tensorflow:loss = 0.6931475, step = 0 (0.109 sec)\n",
      "INFO:tensorflow:loss = 0.6931475, step = 0 (0.112 sec)\n",
      "INFO:tensorflow:loss = 0.6931475, step = 0 (0.109 sec)\n",
      "INFO:tensorflow:loss = 0.6931475, step = 0 (0.097 sec)\n",
      "INFO:tensorflow:loss = 0.6931475, step = 0 (0.100 sec)\n",
      "INFO:tensorflow:loss = 0.6931475, step = 0 (0.098 sec)\n",
      "INFO:tensorflow:loss = 0.6931475, step = 0 (0.092 sec)\n",
      "INFO:tensorflow:loss = 0.6931475, step = 0 (0.099 sec)\n",
      "INFO:tensorflow:global_step/sec: 74.0059\n",
      "INFO:tensorflow:loss = 0.6931475, step = 100 (0.175 sec)\n",
      "INFO:tensorflow:global_step/sec: 907.715\n",
      "INFO:tensorflow:loss = 0.6931475, step = 200 (0.109 sec)\n",
      "INFO:tensorflow:global_step/sec: 918.114\n",
      "INFO:tensorflow:loss = 0.6931475, step = 300 (0.109 sec)\n",
      "INFO:tensorflow:global_step/sec: 919.064\n",
      "INFO:tensorflow:loss = 0.6931475, step = 400 (0.110 sec)\n",
      "INFO:tensorflow:global_step/sec: 892.428\n",
      "INFO:tensorflow:loss = 0.6931475, step = 500 (0.112 sec)\n",
      "INFO:tensorflow:global_step/sec: 905.801\n",
      "INFO:tensorflow:loss = 0.6931475, step = 600 (0.109 sec)\n",
      "INFO:tensorflow:global_step/sec: 906.845\n",
      "INFO:tensorflow:loss = 0.6931475, step = 700 (0.110 sec)\n",
      "INFO:tensorflow:global_step/sec: 913.054\n",
      "INFO:tensorflow:loss = 0.6931475, step = 800 (0.111 sec)\n",
      "INFO:tensorflow:global_step/sec: 913.07\n",
      "INFO:tensorflow:loss = 0.6931475, step = 900 (0.110 sec)\n",
      "INFO:tensorflow:global_step/sec: 875.817\n",
      "INFO:tensorflow:loss = 0.4896431, step = 1000 (0.114 sec)\n",
      "INFO:tensorflow:global_step/sec: 893.984\n",
      "INFO:tensorflow:loss = 0.48069224, step = 1100 (0.111 sec)\n",
      "INFO:tensorflow:global_step/sec: 871.819\n",
      "INFO:tensorflow:loss = 0.48852122, step = 1200 (0.115 sec)\n",
      "INFO:tensorflow:global_step/sec: 895.113\n",
      "INFO:tensorflow:loss = 0.46334854, step = 1300 (0.112 sec)\n",
      "INFO:tensorflow:global_step/sec: 833.149\n",
      "INFO:tensorflow:loss = 0.45686984, step = 1400 (0.120 sec)\n",
      "INFO:tensorflow:global_step/sec: 829.468\n",
      "INFO:tensorflow:loss = 0.45583645, step = 1500 (0.122 sec)\n",
      "INFO:tensorflow:global_step/sec: 821.142\n",
      "INFO:tensorflow:loss = 0.43260962, step = 1600 (0.121 sec)\n",
      "INFO:tensorflow:global_step/sec: 884.835\n",
      "INFO:tensorflow:loss = 0.4788159, step = 1700 (0.114 sec)\n",
      "INFO:tensorflow:global_step/sec: 891.033\n",
      "INFO:tensorflow:loss = 0.4591456, step = 1800 (0.111 sec)\n",
      "INFO:tensorflow:global_step/sec: 778.194\n",
      "INFO:tensorflow:loss = 0.5024483, step = 1900 (0.128 sec)\n",
      "INFO:tensorflow:global_step/sec: 821.47\n",
      "INFO:tensorflow:Calling checkpoint listeners before saving checkpoint 2000...\n",
      "INFO:tensorflow:Saving checkpoints for 2000 into C:\\Users\\ICT01_10\\AppData\\Local\\Temp\\tmp5b_uuoy8\\model.ckpt.\n",
      "WARNING:tensorflow:Issue encountered when serializing resources.\n",
      "Type is unsupported, or the types of the items don't match field type in CollectionDef. Note this is a warning and probably safe to ignore.\n",
      "'_Resource' object has no attribute 'name'\n",
      "INFO:tensorflow:Calling checkpoint listeners after saving checkpoint 2000...\n",
      "INFO:tensorflow:Loss for final step: 0.46981418.\n"
     ]
    },
    {
     "data": {
      "text/plain": [
       "<tensorflow_estimator.python.estimator.canned.boosted_trees.BoostedTreesClassifier at 0x1ce23c02100>"
      ]
     },
     "execution_count": 8,
     "metadata": {},
     "output_type": "execute_result"
    }
   ],
   "source": [
    "gbdt_classifier.train(train_input_fn, max_steps=max_steps)"
   ]
  },
  {
   "cell_type": "code",
   "execution_count": 9,
   "metadata": {},
   "outputs": [
    {
     "name": "stdout",
     "output_type": "stream",
     "text": [
      "INFO:tensorflow:Calling model_fn.\n",
      "WARNING:tensorflow:From C:\\Users\\ICT01_10\\anaconda3\\lib\\site-packages\\tensorflow_estimator\\python\\estimator\\canned\\head.py:635: auc (from tensorflow.python.ops.metrics_impl) is deprecated and will be removed in a future version.\n",
      "Instructions for updating:\n",
      "The value of AUC returned by this may race with the update so this is deprecated. Please use tf.keras.metrics.AUC instead.\n",
      "WARNING:tensorflow:Trapezoidal rule is known to produce incorrect PR-AUCs; please switch to \"careful_interpolation\" instead.\n",
      "WARNING:tensorflow:Trapezoidal rule is known to produce incorrect PR-AUCs; please switch to \"careful_interpolation\" instead.\n",
      "INFO:tensorflow:Done calling model_fn.\n",
      "INFO:tensorflow:Starting evaluation at 2022-01-06T18:14:37\n",
      "INFO:tensorflow:Graph was finalized.\n",
      "INFO:tensorflow:Restoring parameters from C:\\Users\\ICT01_10\\AppData\\Local\\Temp\\tmp5b_uuoy8\\model.ckpt-2000\n",
      "INFO:tensorflow:Running local_init_op.\n",
      "INFO:tensorflow:Done running local_init_op.\n",
      "INFO:tensorflow:Inference Time : 0.36546s\n",
      "INFO:tensorflow:Finished evaluation at 2022-01-06-18:14:37\n",
      "INFO:tensorflow:Saving dict for global step 2000: accuracy = 0.87376237, accuracy_baseline = 0.63118815, auc = 0.92280567, auc_precision_recall = 0.9104949, average_loss = 0.38153037, global_step = 2000, label/mean = 0.36881188, loss = 0.38536394, precision = 0.8888889, prediction/mean = 0.37860647, recall = 0.7516779\n",
      "WARNING:tensorflow:Issue encountered when serializing resources.\n",
      "Type is unsupported, or the types of the items don't match field type in CollectionDef. Note this is a warning and probably safe to ignore.\n",
      "'_Resource' object has no attribute 'name'\n",
      "INFO:tensorflow:Saving 'checkpoint_path' summary for global step 2000: C:\\Users\\ICT01_10\\AppData\\Local\\Temp\\tmp5b_uuoy8\\model.ckpt-2000\n"
     ]
    },
    {
     "data": {
      "text/plain": [
       "{'accuracy': 0.87376237,\n",
       " 'accuracy_baseline': 0.63118815,\n",
       " 'auc': 0.92280567,\n",
       " 'auc_precision_recall': 0.9104949,\n",
       " 'average_loss': 0.38153037,\n",
       " 'label/mean': 0.36881188,\n",
       " 'loss': 0.38536394,\n",
       " 'precision': 0.8888889,\n",
       " 'prediction/mean': 0.37860647,\n",
       " 'recall': 0.7516779,\n",
       " 'global_step': 2000}"
      ]
     },
     "execution_count": 9,
     "metadata": {},
     "output_type": "execute_result"
    }
   ],
   "source": [
    "gbdt_classifier.evaluate(test_train_input_fn)"
   ]
  },
  {
   "cell_type": "code",
   "execution_count": 10,
   "metadata": {},
   "outputs": [
    {
     "name": "stdout",
     "output_type": "stream",
     "text": [
      "INFO:tensorflow:Calling model_fn.\n",
      "WARNING:tensorflow:Trapezoidal rule is known to produce incorrect PR-AUCs; please switch to \"careful_interpolation\" instead.\n",
      "WARNING:tensorflow:Trapezoidal rule is known to produce incorrect PR-AUCs; please switch to \"careful_interpolation\" instead.\n",
      "INFO:tensorflow:Done calling model_fn.\n",
      "INFO:tensorflow:Starting evaluation at 2022-01-06T18:15:12\n",
      "INFO:tensorflow:Graph was finalized.\n",
      "INFO:tensorflow:Restoring parameters from C:\\Users\\ICT01_10\\AppData\\Local\\Temp\\tmp5b_uuoy8\\model.ckpt-2000\n",
      "INFO:tensorflow:Running local_init_op.\n",
      "INFO:tensorflow:Done running local_init_op.\n",
      "INFO:tensorflow:Inference Time : 0.37092s\n",
      "INFO:tensorflow:Finished evaluation at 2022-01-06-18:15:13\n",
      "INFO:tensorflow:Saving dict for global step 2000: accuracy = 0.78431374, accuracy_baseline = 0.5588235, auc = 0.8458089, auc_precision_recall = 0.8628531, average_loss = 0.49373153, global_step = 2000, label/mean = 0.44117647, loss = 0.49373153, precision = 0.87096775, prediction/mean = 0.3742925, recall = 0.6\n",
      "INFO:tensorflow:Saving 'checkpoint_path' summary for global step 2000: C:\\Users\\ICT01_10\\AppData\\Local\\Temp\\tmp5b_uuoy8\\model.ckpt-2000\n"
     ]
    },
    {
     "data": {
      "text/plain": [
       "{'accuracy': 0.78431374,\n",
       " 'accuracy_baseline': 0.5588235,\n",
       " 'auc': 0.8458089,\n",
       " 'auc_precision_recall': 0.8628531,\n",
       " 'average_loss': 0.49373153,\n",
       " 'label/mean': 0.44117647,\n",
       " 'loss': 0.49373153,\n",
       " 'precision': 0.87096775,\n",
       " 'prediction/mean': 0.3742925,\n",
       " 'recall': 0.6,\n",
       " 'global_step': 2000}"
      ]
     },
     "execution_count": 10,
     "metadata": {},
     "output_type": "execute_result"
    }
   ],
   "source": [
    "gbdt_classifier.evaluate(test_input_fn)"
   ]
  },
  {
   "cell_type": "markdown",
   "metadata": {},
   "source": [
    "### GBDT Regressor"
   ]
  },
  {
   "cell_type": "code",
   "execution_count": 11,
   "metadata": {},
   "outputs": [],
   "source": [
    "train_input_fn = tf.compat.v1.estimator.inputs.numpy_input_fn(\n",
    "    x={'x': x_train}, y=y_train,\n",
    "    batch_size=batch_size, num_epochs=None, shuffle=True)\n",
    "test_input_fn = tf.compat.v1.estimator.inputs.numpy_input_fn(\n",
    "    x={'x': x_test}, y=y_test,\n",
    "    batch_size=batch_size, num_epochs=1, shuffle=False)\n",
    "\n",
    "feature_columns = [tf.feature_column.numeric_column(key='x', shape=(num_features,))]"
   ]
  },
  {
   "cell_type": "code",
   "execution_count": 12,
   "metadata": {},
   "outputs": [
    {
     "name": "stdout",
     "output_type": "stream",
     "text": [
      "INFO:tensorflow:Using default config.\n",
      "WARNING:tensorflow:Using temporary folder as model directory: C:\\Users\\ICT01_10\\AppData\\Local\\Temp\\tmprxi9ny6c\n",
      "INFO:tensorflow:Using config: {'_model_dir': 'C:\\\\Users\\\\ICT01_10\\\\AppData\\\\Local\\\\Temp\\\\tmprxi9ny6c', '_tf_random_seed': None, '_save_summary_steps': 100, '_save_checkpoints_steps': None, '_save_checkpoints_secs': 600, '_session_config': allow_soft_placement: true\n",
      "graph_options {\n",
      "  rewrite_options {\n",
      "    meta_optimizer_iterations: ONE\n",
      "  }\n",
      "}\n",
      ", '_keep_checkpoint_max': 5, '_keep_checkpoint_every_n_hours': 10000, '_log_step_count_steps': 100, '_train_distribute': None, '_device_fn': None, '_protocol': None, '_eval_distribute': None, '_experimental_distribute': None, '_experimental_max_worker_delay_secs': None, '_session_creation_timeout_secs': 7200, '_checkpoint_save_graph_def': True, '_service': None, '_cluster_spec': ClusterSpec({}), '_task_type': 'worker', '_task_id': 0, '_global_id_in_cluster': 0, '_master': '', '_evaluation_master': '', '_is_chief': True, '_num_ps_replicas': 0, '_num_worker_replicas': 1}\n"
     ]
    }
   ],
   "source": [
    "gbdt_regressor = tf.estimator.BoostedTreesRegressor(\n",
    "    n_batches_per_layer=num_batches_per_layer,\n",
    "    feature_columns = feature_columns,\n",
    "    learning_rate = learning_rate,\n",
    "    n_trees=num_trees,\n",
    "    max_depth=max_depth,\n",
    "    l1_regularization=l1_regul,\n",
    "    l2_regularization=l2_regul\n",
    ")"
   ]
  },
  {
   "cell_type": "code",
   "execution_count": 13,
   "metadata": {},
   "outputs": [
    {
     "name": "stdout",
     "output_type": "stream",
     "text": [
      "INFO:tensorflow:Calling model_fn.\n",
      "INFO:tensorflow:Done calling model_fn.\n",
      "INFO:tensorflow:Create CheckpointSaverHook.\n",
      "WARNING:tensorflow:Issue encountered when serializing resources.\n",
      "Type is unsupported, or the types of the items don't match field type in CollectionDef. Note this is a warning and probably safe to ignore.\n",
      "'_Resource' object has no attribute 'name'\n",
      "INFO:tensorflow:Graph was finalized.\n",
      "INFO:tensorflow:Running local_init_op.\n",
      "INFO:tensorflow:Done running local_init_op.\n",
      "WARNING:tensorflow:Issue encountered when serializing resources.\n",
      "Type is unsupported, or the types of the items don't match field type in CollectionDef. Note this is a warning and probably safe to ignore.\n",
      "'_Resource' object has no attribute 'name'\n",
      "INFO:tensorflow:Calling checkpoint listeners before saving checkpoint 0...\n",
      "INFO:tensorflow:Saving checkpoints for 0 into C:\\Users\\ICT01_10\\AppData\\Local\\Temp\\tmprxi9ny6c\\model.ckpt.\n",
      "WARNING:tensorflow:Issue encountered when serializing resources.\n",
      "Type is unsupported, or the types of the items don't match field type in CollectionDef. Note this is a warning and probably safe to ignore.\n",
      "'_Resource' object has no attribute 'name'\n",
      "INFO:tensorflow:Calling checkpoint listeners after saving checkpoint 0...\n",
      "INFO:tensorflow:loss = 538.1521, step = 0\n",
      "INFO:tensorflow:loss = 537.05493, step = 0 (0.216 sec)\n",
      "INFO:tensorflow:loss = 593.2777, step = 0 (0.100 sec)\n",
      "INFO:tensorflow:loss = 605.33105, step = 0 (0.105 sec)\n",
      "INFO:tensorflow:loss = 597.78625, step = 0 (0.104 sec)\n",
      "INFO:tensorflow:loss = 599.0044, step = 0 (0.105 sec)\n",
      "INFO:tensorflow:loss = 569.9154, step = 0 (0.107 sec)\n",
      "INFO:tensorflow:loss = 540.8053, step = 0 (0.106 sec)\n",
      "INFO:tensorflow:loss = 647.6196, step = 0 (0.109 sec)\n",
      "INFO:tensorflow:loss = 558.221, step = 0 (0.102 sec)\n",
      "INFO:tensorflow:loss = 599.9366, step = 0 (0.108 sec)\n",
      "INFO:tensorflow:global_step/sec: 75.3064\n",
      "INFO:tensorflow:loss = 614.6072, step = 100 (0.167 sec)\n",
      "INFO:tensorflow:global_step/sec: 917.012\n",
      "INFO:tensorflow:loss = 611.24976, step = 200 (0.109 sec)\n",
      "INFO:tensorflow:global_step/sec: 864.812\n",
      "INFO:tensorflow:loss = 640.3755, step = 300 (0.117 sec)\n",
      "INFO:tensorflow:global_step/sec: 796.244\n",
      "INFO:tensorflow:loss = 570.99475, step = 400 (0.126 sec)\n",
      "INFO:tensorflow:global_step/sec: 815.183\n",
      "INFO:tensorflow:loss = 600.4675, step = 500 (0.122 sec)\n",
      "INFO:tensorflow:global_step/sec: 925.084\n",
      "INFO:tensorflow:loss = 593.6233, step = 600 (0.108 sec)\n",
      "INFO:tensorflow:global_step/sec: 934.069\n",
      "INFO:tensorflow:loss = 573.5034, step = 700 (0.108 sec)\n",
      "INFO:tensorflow:global_step/sec: 885.672\n",
      "INFO:tensorflow:loss = 533.9712, step = 800 (0.113 sec)\n",
      "INFO:tensorflow:global_step/sec: 867.61\n",
      "INFO:tensorflow:loss = 602.08966, step = 900 (0.114 sec)\n",
      "INFO:tensorflow:global_step/sec: 859.954\n",
      "INFO:tensorflow:loss = 67.13023, step = 1000 (0.117 sec)\n",
      "INFO:tensorflow:global_step/sec: 858.11\n",
      "INFO:tensorflow:loss = 75.92601, step = 1100 (0.117 sec)\n",
      "INFO:tensorflow:global_step/sec: 892.846\n",
      "INFO:tensorflow:loss = 60.645023, step = 1200 (0.112 sec)\n",
      "INFO:tensorflow:global_step/sec: 896.592\n",
      "INFO:tensorflow:loss = 51.124573, step = 1300 (0.112 sec)\n",
      "INFO:tensorflow:global_step/sec: 844.279\n",
      "INFO:tensorflow:loss = 69.90964, step = 1400 (0.118 sec)\n",
      "INFO:tensorflow:global_step/sec: 844.943\n",
      "INFO:tensorflow:loss = 47.79821, step = 1500 (0.117 sec)\n",
      "INFO:tensorflow:global_step/sec: 859.45\n",
      "INFO:tensorflow:loss = 59.345146, step = 1600 (0.116 sec)\n",
      "INFO:tensorflow:global_step/sec: 863.081\n",
      "INFO:tensorflow:loss = 60.657013, step = 1700 (0.116 sec)\n",
      "INFO:tensorflow:global_step/sec: 919.735\n",
      "INFO:tensorflow:loss = 54.792915, step = 1800 (0.109 sec)\n",
      "INFO:tensorflow:global_step/sec: 905.827\n",
      "INFO:tensorflow:loss = 51.522057, step = 1900 (0.110 sec)\n",
      "INFO:tensorflow:global_step/sec: 817.834\n",
      "INFO:tensorflow:Calling checkpoint listeners before saving checkpoint 2000...\n",
      "INFO:tensorflow:Saving checkpoints for 2000 into C:\\Users\\ICT01_10\\AppData\\Local\\Temp\\tmprxi9ny6c\\model.ckpt.\n",
      "WARNING:tensorflow:Issue encountered when serializing resources.\n",
      "Type is unsupported, or the types of the items don't match field type in CollectionDef. Note this is a warning and probably safe to ignore.\n",
      "'_Resource' object has no attribute 'name'\n",
      "INFO:tensorflow:Calling checkpoint listeners after saving checkpoint 2000...\n",
      "INFO:tensorflow:Loss for final step: 57.80591.\n"
     ]
    },
    {
     "data": {
      "text/plain": [
       "<tensorflow_estimator.python.estimator.canned.boosted_trees.BoostedTreesRegressor at 0x1ce348113a0>"
      ]
     },
     "execution_count": 13,
     "metadata": {},
     "output_type": "execute_result"
    }
   ],
   "source": [
    "gbdt_regressor.train(train_input_fn, max_steps=max_steps)"
   ]
  },
  {
   "cell_type": "code",
   "execution_count": 14,
   "metadata": {},
   "outputs": [
    {
     "name": "stdout",
     "output_type": "stream",
     "text": [
      "INFO:tensorflow:Calling model_fn.\n",
      "INFO:tensorflow:Done calling model_fn.\n",
      "INFO:tensorflow:Starting evaluation at 2022-01-06T18:20:02\n",
      "INFO:tensorflow:Graph was finalized.\n",
      "INFO:tensorflow:Restoring parameters from C:\\Users\\ICT01_10\\AppData\\Local\\Temp\\tmprxi9ny6c\\model.ckpt-2000\n",
      "INFO:tensorflow:Running local_init_op.\n",
      "INFO:tensorflow:Done running local_init_op.\n",
      "INFO:tensorflow:Inference Time : 0.21144s\n",
      "INFO:tensorflow:Finished evaluation at 2022-01-06-18:20:02\n",
      "INFO:tensorflow:Saving dict for global step 2000: average_loss = 29.689949, global_step = 2000, label/mean = 23.078428, loss = 29.689949, prediction/mean = 22.49463\n",
      "WARNING:tensorflow:Issue encountered when serializing resources.\n",
      "Type is unsupported, or the types of the items don't match field type in CollectionDef. Note this is a warning and probably safe to ignore.\n",
      "'_Resource' object has no attribute 'name'\n",
      "INFO:tensorflow:Saving 'checkpoint_path' summary for global step 2000: C:\\Users\\ICT01_10\\AppData\\Local\\Temp\\tmprxi9ny6c\\model.ckpt-2000\n"
     ]
    },
    {
     "data": {
      "text/plain": [
       "{'average_loss': 29.689949,\n",
       " 'label/mean': 23.078428,\n",
       " 'loss': 29.689949,\n",
       " 'prediction/mean': 22.49463,\n",
       " 'global_step': 2000}"
      ]
     },
     "execution_count": 14,
     "metadata": {},
     "output_type": "execute_result"
    }
   ],
   "source": [
    "gbdt_regressor.evaluate(test_input_fn)"
   ]
  },
  {
   "cell_type": "code",
   "execution_count": null,
   "metadata": {},
   "outputs": [],
   "source": []
  }
 ],
 "metadata": {
  "interpreter": {
   "hash": "57728f4bfd9bc978c25d5c9cdcf277be28bad00a01dc89349b2fca774db23ac6"
  },
  "kernelspec": {
   "display_name": "Python 3.8.8 64-bit ('base': conda)",
   "language": "python",
   "name": "python3"
  },
  "language_info": {
   "codemirror_mode": {
    "name": "ipython",
    "version": 3
   },
   "file_extension": ".py",
   "mimetype": "text/x-python",
   "name": "python",
   "nbconvert_exporter": "python",
   "pygments_lexer": "ipython3",
   "version": "3.8.8"
  },
  "orig_nbformat": 4
 },
 "nbformat": 4,
 "nbformat_minor": 2
}
